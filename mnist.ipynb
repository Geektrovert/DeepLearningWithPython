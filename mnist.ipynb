{
  "nbformat": 4,
  "nbformat_minor": 0,
  "metadata": {
    "colab": {
      "name": "mnist",
      "version": "0.3.2",
      "provenance": [],
      "collapsed_sections": []
    },
    "kernelspec": {
      "name": "python3",
      "display_name": "Python 3"
    },
    "accelerator": "TPU"
  },
  "cells": [
    {
      "metadata": {
        "id": "8wv8q2oECm7b",
        "colab_type": "text"
      },
      "cell_type": "markdown",
      "source": [
        "## **Example 1 : MNIST dataset**\n",
        "### **_From Deep Learning with Python_**"
      ]
    },
    {
      "metadata": {
        "id": "pZAVnpY2DHB2",
        "colab_type": "text"
      },
      "cell_type": "markdown",
      "source": [
        "**Importing dataset**"
      ]
    },
    {
      "metadata": {
        "id": "Qv07E0Zy_pkZ",
        "colab_type": "code",
        "outputId": "4ca50715-066c-4f59-e399-e16ff8e0bd91",
        "colab": {
          "base_uri": "https://localhost:8080/",
          "height": 72
        }
      },
      "cell_type": "code",
      "source": [
        "from keras.datasets import mnist\n",
        "(train_images, train_labels), (test_images, test_labels) = mnist.load_data()"
      ],
      "execution_count": 1,
      "outputs": [
        {
          "output_type": "stream",
          "text": [
            "Using TensorFlow backend.\n"
          ],
          "name": "stderr"
        },
        {
          "output_type": "stream",
          "text": [
            "Downloading data from https://s3.amazonaws.com/img-datasets/mnist.npz\n",
            "11493376/11490434 [==============================] - 0s 0us/step\n"
          ],
          "name": "stdout"
        }
      ]
    },
    {
      "metadata": {
        "id": "Y1qYMYHbDv4C",
        "colab_type": "text"
      },
      "cell_type": "markdown",
      "source": [
        "**Data Overview**"
      ]
    },
    {
      "metadata": {
        "id": "p2YScGHUDnby",
        "colab_type": "code",
        "colab": {
          "base_uri": "https://localhost:8080/",
          "height": 90
        },
        "outputId": "bc60d274-4f79-4a96-f55e-723d02260f58"
      },
      "cell_type": "code",
      "source": [
        "print(train_images.shape)\n",
        "print(train_labels.shape)\n",
        "print(test_images.shape)\n",
        "print(test_labels.shape)"
      ],
      "execution_count": 2,
      "outputs": [
        {
          "output_type": "stream",
          "text": [
            "(60000, 28, 28)\n",
            "(60000,)\n",
            "(10000, 28, 28)\n",
            "(10000,)\n"
          ],
          "name": "stdout"
        }
      ]
    },
    {
      "metadata": {
        "id": "w-6dVULzD2d5",
        "colab_type": "text"
      },
      "cell_type": "markdown",
      "source": [
        "**Importing models, layers and creating our Network**"
      ]
    },
    {
      "metadata": {
        "id": "5LRfJJ2eA3yX",
        "colab_type": "code",
        "colab": {
          "base_uri": "https://localhost:8080/",
          "height": 92
        },
        "outputId": "1bd1c4f0-80b2-45fa-a7c9-c80edad55ac2"
      },
      "cell_type": "code",
      "source": [
        "from keras import models\n",
        "from keras.layers import Dense, Activation\n",
        "\n",
        "\n",
        "network = models.Sequential()\n",
        "network.add(Dense(32, input_dim=784))\n",
        "network.add(Activation('relu'))\n",
        "network.add(Dense(10))\n",
        "network.add(Activation('softmax'))\n",
        "network.compile(optimizer='rmsprop', loss='categorical_crossentropy', metrics=['accuracy'])"
      ],
      "execution_count": 3,
      "outputs": [
        {
          "output_type": "stream",
          "text": [
            "WARNING:tensorflow:From /usr/local/lib/python3.6/dist-packages/tensorflow/python/framework/op_def_library.py:263: colocate_with (from tensorflow.python.framework.ops) is deprecated and will be removed in a future version.\n",
            "Instructions for updating:\n",
            "Colocations handled automatically by placer.\n"
          ],
          "name": "stdout"
        }
      ]
    },
    {
      "metadata": {
        "id": "TC3tt1mAE6ky",
        "colab_type": "text"
      },
      "cell_type": "markdown",
      "source": [
        "**Preparing the data**"
      ]
    },
    {
      "metadata": {
        "id": "J8P9hmNtDW8Y",
        "colab_type": "code",
        "colab": {}
      },
      "cell_type": "code",
      "source": [
        "train_images = train_images.reshape((60000, 28*28))\n",
        "train_images = train_images.astype('float32')/255\n",
        "\n",
        "test_images = test_images.reshape((10000, 28*28))\n",
        "test_images = test_images.astype('float32')/255"
      ],
      "execution_count": 0,
      "outputs": []
    },
    {
      "metadata": {
        "id": "h_7q-59gE_5G",
        "colab_type": "text"
      },
      "cell_type": "markdown",
      "source": [
        "**Categorically encode and prepare the labels**"
      ]
    },
    {
      "metadata": {
        "id": "Fgw1RCAGGGC8",
        "colab_type": "code",
        "colab": {}
      },
      "cell_type": "code",
      "source": [
        "from keras.utils import to_categorical\n",
        "\n",
        "train_labels = to_categorical(train_labels)\n",
        "test_labels = to_categorical(test_labels)"
      ],
      "execution_count": 0,
      "outputs": []
    },
    {
      "metadata": {
        "id": "Pg6ridKFFeB8",
        "colab_type": "text"
      },
      "cell_type": "markdown",
      "source": [
        "**Training the Network**\n",
        "\n",
        "- Run for 30 epochs (iterate 30 times over total data)\n",
        "- Batch size : 64 (calculate each step for small batches of data with 64 images)\n",
        "- Shuffle the data\n",
        "- Split : .10 (split 10% of the train data for validation)"
      ]
    },
    {
      "metadata": {
        "id": "p5QllKGFGeWU",
        "colab_type": "code",
        "outputId": "6b214322-4b5a-42f8-9745-5ac2d3ccba8f",
        "colab": {
          "base_uri": "https://localhost:8080/",
          "height": 1231
        }
      },
      "cell_type": "code",
      "source": [
        "network.fit(train_images, train_labels, epochs=30, batch_size=64, shuffle=True, validation_split=0.10)"
      ],
      "execution_count": 6,
      "outputs": [
        {
          "output_type": "stream",
          "text": [
            "WARNING:tensorflow:From /usr/local/lib/python3.6/dist-packages/tensorflow/python/ops/math_ops.py:3066: to_int32 (from tensorflow.python.ops.math_ops) is deprecated and will be removed in a future version.\n",
            "Instructions for updating:\n",
            "Use tf.cast instead.\n",
            "Train on 54000 samples, validate on 6000 samples\n",
            "Epoch 1/30\n",
            "54000/54000 [==============================] - 2s 41us/step - loss: 0.4097 - acc: 0.8880 - val_loss: 0.2103 - val_acc: 0.9405\n",
            "Epoch 2/30\n",
            "54000/54000 [==============================] - 2s 29us/step - loss: 0.2314 - acc: 0.9343 - val_loss: 0.1644 - val_acc: 0.9542\n",
            "Epoch 3/30\n",
            "54000/54000 [==============================] - 2s 30us/step - loss: 0.1860 - acc: 0.9458 - val_loss: 0.1478 - val_acc: 0.9583\n",
            "Epoch 4/30\n",
            "54000/54000 [==============================] - 2s 30us/step - loss: 0.1592 - acc: 0.9541 - val_loss: 0.1390 - val_acc: 0.9622\n",
            "Epoch 5/30\n",
            "54000/54000 [==============================] - 2s 30us/step - loss: 0.1408 - acc: 0.9594 - val_loss: 0.1282 - val_acc: 0.9657\n",
            "Epoch 6/30\n",
            "54000/54000 [==============================] - 2s 29us/step - loss: 0.1280 - acc: 0.9628 - val_loss: 0.1283 - val_acc: 0.9667\n",
            "Epoch 7/30\n",
            "54000/54000 [==============================] - 2s 29us/step - loss: 0.1180 - acc: 0.9658 - val_loss: 0.1214 - val_acc: 0.9667\n",
            "Epoch 8/30\n",
            "54000/54000 [==============================] - 2s 30us/step - loss: 0.1107 - acc: 0.9678 - val_loss: 0.1229 - val_acc: 0.9655\n",
            "Epoch 9/30\n",
            "54000/54000 [==============================] - 2s 29us/step - loss: 0.1041 - acc: 0.9703 - val_loss: 0.1213 - val_acc: 0.9675\n",
            "Epoch 10/30\n",
            "54000/54000 [==============================] - 2s 29us/step - loss: 0.0974 - acc: 0.9721 - val_loss: 0.1227 - val_acc: 0.9673\n",
            "Epoch 11/30\n",
            "54000/54000 [==============================] - 2s 30us/step - loss: 0.0936 - acc: 0.9727 - val_loss: 0.1133 - val_acc: 0.9700\n",
            "Epoch 12/30\n",
            "54000/54000 [==============================] - 2s 30us/step - loss: 0.0896 - acc: 0.9734 - val_loss: 0.1167 - val_acc: 0.9708\n",
            "Epoch 13/30\n",
            "54000/54000 [==============================] - 2s 29us/step - loss: 0.0850 - acc: 0.9755 - val_loss: 0.1183 - val_acc: 0.9688\n",
            "Epoch 14/30\n",
            "54000/54000 [==============================] - 2s 29us/step - loss: 0.0821 - acc: 0.9768 - val_loss: 0.1183 - val_acc: 0.9687\n",
            "Epoch 15/30\n",
            "54000/54000 [==============================] - 2s 29us/step - loss: 0.0783 - acc: 0.9777 - val_loss: 0.1175 - val_acc: 0.9693\n",
            "Epoch 16/30\n",
            "54000/54000 [==============================] - 2s 29us/step - loss: 0.0760 - acc: 0.9786 - val_loss: 0.1180 - val_acc: 0.9708\n",
            "Epoch 17/30\n",
            "54000/54000 [==============================] - 2s 32us/step - loss: 0.0731 - acc: 0.9795 - val_loss: 0.1177 - val_acc: 0.9698\n",
            "Epoch 18/30\n",
            "54000/54000 [==============================] - 2s 35us/step - loss: 0.0709 - acc: 0.9799 - val_loss: 0.1200 - val_acc: 0.9698\n",
            "Epoch 19/30\n",
            "54000/54000 [==============================] - 2s 36us/step - loss: 0.0684 - acc: 0.9805 - val_loss: 0.1264 - val_acc: 0.9662\n",
            "Epoch 20/30\n",
            "54000/54000 [==============================] - 2s 32us/step - loss: 0.0658 - acc: 0.9818 - val_loss: 0.1212 - val_acc: 0.9698\n",
            "Epoch 21/30\n",
            "54000/54000 [==============================] - 2s 29us/step - loss: 0.0642 - acc: 0.9820 - val_loss: 0.1190 - val_acc: 0.9707\n",
            "Epoch 22/30\n",
            "54000/54000 [==============================] - 2s 29us/step - loss: 0.0617 - acc: 0.9828 - val_loss: 0.1267 - val_acc: 0.9685\n",
            "Epoch 23/30\n",
            "54000/54000 [==============================] - 2s 29us/step - loss: 0.0604 - acc: 0.9836 - val_loss: 0.1188 - val_acc: 0.9727\n",
            "Epoch 24/30\n",
            "54000/54000 [==============================] - 2s 29us/step - loss: 0.0586 - acc: 0.9839 - val_loss: 0.1268 - val_acc: 0.9702\n",
            "Epoch 25/30\n",
            "54000/54000 [==============================] - 2s 29us/step - loss: 0.0571 - acc: 0.9836 - val_loss: 0.1235 - val_acc: 0.9695\n",
            "Epoch 26/30\n",
            "54000/54000 [==============================] - 2s 30us/step - loss: 0.0550 - acc: 0.9848 - val_loss: 0.1306 - val_acc: 0.9688\n",
            "Epoch 27/30\n",
            "54000/54000 [==============================] - 2s 29us/step - loss: 0.0537 - acc: 0.9856 - val_loss: 0.1347 - val_acc: 0.9672\n",
            "Epoch 28/30\n",
            "54000/54000 [==============================] - 2s 29us/step - loss: 0.0524 - acc: 0.9855 - val_loss: 0.1348 - val_acc: 0.9683\n",
            "Epoch 29/30\n",
            "54000/54000 [==============================] - 2s 29us/step - loss: 0.0509 - acc: 0.9861 - val_loss: 0.1334 - val_acc: 0.9697\n",
            "Epoch 30/30\n",
            "54000/54000 [==============================] - 2s 29us/step - loss: 0.0491 - acc: 0.9864 - val_loss: 0.1329 - val_acc: 0.9685\n"
          ],
          "name": "stdout"
        },
        {
          "output_type": "execute_result",
          "data": {
            "text/plain": [
              "<keras.callbacks.History at 0x7f0647787438>"
            ]
          },
          "metadata": {
            "tags": []
          },
          "execution_count": 6
        }
      ]
    },
    {
      "metadata": {
        "id": "IX6FfhdVGek-",
        "colab_type": "text"
      },
      "cell_type": "markdown",
      "source": [
        "**Test the network against test data**"
      ]
    },
    {
      "metadata": {
        "id": "bGhEqysaHCsj",
        "colab_type": "code",
        "outputId": "d952a216-b979-43ac-c23f-5121bfc021fc",
        "colab": {
          "base_uri": "https://localhost:8080/",
          "height": 54
        }
      },
      "cell_type": "code",
      "source": [
        "test_loss, test_acc = network.evaluate(test_images, test_labels)\n",
        "print(\"test acc: \", test_acc)"
      ],
      "execution_count": 7,
      "outputs": [
        {
          "output_type": "stream",
          "text": [
            "10000/10000 [==============================] - 0s 23us/step\n",
            "test acc:  0.9671\n"
          ],
          "name": "stdout"
        }
      ]
    }
  ]
}